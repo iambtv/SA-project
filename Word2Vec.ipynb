{
 "cells": [
  {
   "cell_type": "code",
   "execution_count": 1,
   "metadata": {
    "collapsed": true
   },
   "outputs": [],
   "source": [
    "import pandas as pd\n",
    "import numpy as np\n",
    "pd.set_option('display.max_colwidth', -1)\n",
    "#pd.set_option('display.max_columns', None)  \n",
    "#pd.options.display.max_rows = 2106\n",
    "import nltk\n",
    "import string\n",
    "from gensim.models.keyedvectors import KeyedVectors\n",
    "word_vectors = KeyedVectors.load_word2vec_format('GoogleNews-vectors-negative300.bin', binary=True)"
   ]
  },
  {
   "cell_type": "code",
   "execution_count": 2,
   "metadata": {},
   "outputs": [
    {
     "name": "stdout",
     "output_type": "stream",
     "text": [
      "Error line 1: <class '_csv.Error'>\n"
     ]
    }
   ],
   "source": [
    "import csv\n",
    "with open(r\"trump.csv\", 'rb') as f:\n",
    "    reader = csv.reader(f)\n",
    "    linenumber = 1\n",
    "    try:\n",
    "        for row in reader:\n",
    "            linenumber += 1\n",
    "    except Exception as e:\n",
    "        print ((\"Error line %d: %s\" % (linenumber, str(type(e)))))"
   ]
  },
  {
   "cell_type": "code",
   "execution_count": 2,
   "metadata": {
    "collapsed": true
   },
   "outputs": [],
   "source": [
    "tweets = pd.read_csv('DS.csv', encoding='latin-1')\n",
    "tweets_sample = tweets[:2000]"
   ]
  },
  {
   "cell_type": "code",
   "execution_count": 14,
   "metadata": {
    "collapsed": true
   },
   "outputs": [],
   "source": [
    "from nltk.corpus import stopwords\n",
    "def text_process(mess):\n",
    "    \"\"\"\n",
    "    Takes in a string of text, then performs the following:\n",
    "    1. Remove all punctuation\n",
    "    2. Remove all stopwords\n",
    "    3. Returns a list of the cleaned text\n",
    "    \"\"\"\n",
    "    mess = str(mess)\n",
    "    # Check characters to see if they are in punctuation\n",
    "    nopunc = [char for char in mess if char not in string.punctuation]\n",
    "    # Join the characters again to form the string.\n",
    "    nopunc = ''.join(nopunc)\n",
    "    \n",
    "    # Now just remove any stopwords\n",
    "    return [word for word in nopunc.split() if word not in stopwords.words('english')]\n",
    "    #return [word for word in nopunc.split() ]"
   ]
  },
  {
   "cell_type": "code",
   "execution_count": 15,
   "metadata": {},
   "outputs": [],
   "source": [
    "tweets['tokens']=tweets['trimmed_tweet'].apply(text_process)"
   ]
  },
  {
   "cell_type": "code",
   "execution_count": 16,
   "metadata": {
    "collapsed": true
   },
   "outputs": [],
   "source": [
    "s = \"\"\"Account, Acid, Advance, Aerial, Agency, Aggression, Aggressor, Agitator, Aim, Aircraft, Airfield, Airplane, Airport, Alarm, Alert, Alliance, Allies, Ambush, Ammunition, Anarchy, Anguish, Annihilate, Apartheid, Appeasement, Armament, Armed forces, Armory, Arms, Arsenal, Artillery, Ashore, Assassin, Assassinate, Assault, Atrocity, Attack, Attrition, Authority, Automatic, Barrage, Barricade, Battalion, Battle, Battlefield, Belligerent, Betray, Blast, Blindside, Blood(y), Bloodletting, Blow up, Bomb, Bombardment, Booby trap, Breach, Brutal, Brutality, Bullet, Bulletproof, Bunker, Burn, Burning, Bury, Cadaver, Camouflage, Campaign, Captive, Captive, Capture, Careen, Cargo, Carnage, Carrier, Casualties, Cataclysm, Cautionary, Cautious, Chaos, Charge, Charred, Checkpoint, Chief, Chopper, Civilian, Clamor, Clandestine, Clash, Coalition, Collapse, Combat, Combat, Command(or), Commandos, Compassion, Compliance, Concentration, Concussion, Conflagration, Conflict, Confrontation(al), Confusion, Conquer, Consequences, Consolidate, Conspiracy, Conspire, Control, Convoy, Coordinate, Coordinates, Corps, Corpse, Counterattack, Countermand, Courageous, Crisis, Cross-hairs, Culpability, Damage, Danger, Dangerous, Dash, Dead, Deadly, Death, Debacle, Debris, Decline, Defect, Defend, Defense, Defensive, Defiant, Demolish, Demoralization, Deploy, Desert, Despot, Destroy, Destruction, Detect, Detection, Detonate, Devastation, Device, Dictator, Die, Disarmament, Disarray, Disaster, Disastrous, Discipline, Disease, Dismantle, Dispatch, Disperse, Dispute, Disruption, Dissonance, Dominate, Doom, Downfall, Drama, Dread, Drone, Duck, Duty, Encounter, Endurance, Enemy, Enforcement, Engagement, Epithet, Escalation, Escape, Evacuate, Evacuee, Excess, Execute, Execution, Exercise, Expectations, Explode, Exploitation, Explosion, Explosive, Expunge, Extremism, Faction, Fanatic, Fatal, Fear, Fearless, Ferment, Ferocious, Feud, Fierce, Fiery, Fight, Fighter, Flank, Flee, Flight, Force(s), Forceful, Fortification, Foxhole, Fray, Frenzy, Fright, Front lines, Fuel, Fugitive, Furtive, Garrison, Gas, Generator, Genocide, Germ warfare, Government, Grave, Grenade, Grievous, Groans, Guard, Guerrillas, Guided bombs, Guns, Gunship, Hammering, Harsh, Hatch, Hate, Hatred, Hazard, Helicopter, Heroic, Heroism, Hide, Hijack, Hijacker, Hit, Hit-and-run, Holocaust, Horrific, Horses, Hostile, Hostility, Howitzer, Ignite, Impact, Improvise, Incident, Incite, Incontrovertible, Infantry, Inferred, Infiltrate, Inflame, Informant, Injuries, Instructions, Insurgent, Insurrection, Intelligence, Intense, Intercept, Interdiction, International, Interrogation, Intervene, Intimidate, Invasion, Investigate, Investigations, Involvement, Ire, Jeer, Jets, Join, Keening, Kidnap, Kill, Knives, Knock-out, Lamentation, Land mines, Laser-activated, Launch, Launcher, Legacy, Liaison, Liberation, Liberators, Links to, Loathsome, Loyalty, Machine guns, Machines, Maim, Malevolent, Malicious, Maraud, March, Massacre, Mayhem, Megalomania, Menace, Method, Militancy, Militant, Militaristic, Military, Militia, Mines, Missile, Mission, Mistreatment, Mobile, Mobilization, Momentum, Mortars, Munitions, Murder, Muscle, Nationalist, Negotiation, Neutralize, Nightmare, Nitrate, Notorious, Offensive, Officials, Onerous, Operation, Opposition, Order, Outbreak, Overrun, Overthrow, Pacify, Paramedics, Partisan, Patriot, Patriotism, Patrol, Penetration, Performance, Persecute, Petrify, Photos, Pilot, Pistol, Planes, Platoon, Plunder, Position, Post-traumatic, Potent, Pound, Powder, Power, Powerful, Preemptive, Premeditate, Prey, Prison, Prisoner, Proliferation, Provocation, Prowl, Pugnacious, Pulverize, Quail, Quarrel, Quell, Quiver, Radiation, Radical, Rage, Rally, Ravage, Ravish, Reaction, Readiness, Rebel, Rebellion, Reconnaissance, Recovery, Recruitment, Refugee, Regime, Regiment, Reinforcements, Relentless, Reparation, Reprisal, Reputation, Rescue, Resistance, Retaliation, Retreat, Retribution, Revenge, Revolution, Ricochet, Rifle, Rift, Rival, Rocket, Rot, Rounds, Rule, Ruthless, Sabotage, Sacrifice, Salvage, Sanction, Savage, Scare, Score, Scramble, Screening, Secrecy, Secret, Security, Sedition, Seize, Seizure, Sensor, Setback, Shelling, Shells, Shock, Shoot, Shot, Showdown, Siege, Skirmish, Slaughter, Smuggle, Soldier, Special-ops, Specialized, Spokesman, Spotter, Spy, Spy satellite, Squad, Stash, Stealth, Storage, Storm, Straggler, Strangle, Strategic, Strategist, Strategy, Strife, Strike, Strip, Stronghold, Struggle, Submarine, Subversive, Suffering, Superstition, Supplies, Support, Suppression, Surprise, Surrender, Survival, Survivor, Suspect, Tactics, Tank, Target, Tension, Terrain, Terror, Terrorism, Terrorist, Terrorize, Threat, Threaten, Thwart, Topple, Torch, Torpedo, Tourniquet, Tragic, Training, Trample, Transportation, Trap, Trauma, Treachery, Trench, Trigger, Triumph, Turbulent, Unbelievable, Unconventional, Unexpected, Uniform, Unify, Unit, Unite, Unleash, Uprising, Urgency, Vanguard, Vanish, Vehicle, Vehicular, Vendetta, Venomous, Veteran, Vicious, Victory, Vile, Vilify, Violation, Violence, Virulence, Vital, Vitriol, Vociferous, Void, Vow, Vulnerability, Wage, War, Warheads, Warnings, Warplane, Warrant, Warrior, Watch list, Watchdog, Watchful, Weapon, Well-trained, Whiz, Wince, Wisdom, Worldwide, Wounds, Wreckage, X-ray, Yearn, Yelling, Zeal, Zealot, Zigzag, Zone\"\"\"\n",
    "vocab = s.split(', ')\n",
    "def vocabInWord2V(vocab):\n",
    "    rs = []\n",
    "    for i in vocab:\n",
    "        if i in word_vectors.wv:\n",
    "            rs.append(i)\n",
    "            rs.append(i.lower())\n",
    "    return rs\n",
    "vocab = vocabInWord2V(vocab)"
   ]
  },
  {
   "cell_type": "code",
   "execution_count": 17,
   "metadata": {},
   "outputs": [],
   "source": [
    "def getMaxScore(word):\n",
    "    max_score = 0\n",
    "    temp = 0\n",
    "    for i in vocab:\n",
    "        temp = word_vectors.wv.similarity(word,i)\n",
    "        if temp>max_score:\n",
    "            max_score = temp\n",
    "    return max_score\n",
    "\n",
    "def getAverageScore(tokens):\n",
    "    count = 0\n",
    "    score = 0\n",
    "    for i in tokens:\n",
    "        if i in word_vectors:\n",
    "            score = score + getMaxScore(i)\n",
    "            count = count + 1\n",
    "    return score/count if count != 0 else 0"
   ]
  },
  {
   "cell_type": "code",
   "execution_count": 18,
   "metadata": {
    "scrolled": true
   },
   "outputs": [],
   "source": [
    "tweets['score'] = tweets['tokens'].apply(getAverageScore)"
   ]
  },
  {
   "cell_type": "code",
   "execution_count": 21,
   "metadata": {},
   "outputs": [
    {
     "data": {
      "text/plain": [
       "0        [Some, folks, mad, isnt, outrage, death, DanielShaver, isnt, black, peoples, job, create]                                  \n",
       "1        [DanielShaver]                                                                                                             \n",
       "2        [White, folks, dont, want, hear, abt, DanielShaver, Much, comforting, believe, black, people, minorities]                  \n",
       "3        [I, reject, bad, apples, theory, police, brutality, If, watch, DanielShaver, video, PhillipBrailsford, knew, w]            \n",
       "4        [For, dont, know, BlackLivesMatter, fighting, DanielShaver, unarmed, white, man, killed, white, cop]                       \n",
       "5        [The, Mesa, Police, Department, murdered, DanielShaver]                                                                    \n",
       "6        [Some, folks, mad, isnt, outrage, death, DanielShaver, isnt, black, peoples, job, create]                                  \n",
       "7        [Officer, Philip, Brailsford, piece, shit, murderer, video, made, sick, JusticeForDaniel, DanielShaver]                    \n",
       "8        [CharlesLangley, DanielShaver, mesapd, congrats, piece, shit, ended, career, high, note, killing]                          \n",
       "9        [Some, folks, mad, isnt, outrage, death, DanielShaver, isnt, black, peoples, job, create]                                  \n",
       "10       [Some, folks, mad, isnt, outrage, death, DanielShaver, isnt, black, peoples, job, create]                                  \n",
       "11       [Some, folks, mad, isnt, outrage, death, DanielShaver, isnt, black, peoples, job, create]                                  \n",
       "12       [If, PhilipBrailsford, get, away, barbaric, murder, poor, DanielShaver, video, one, worst, things, Ive, ever]              \n",
       "13       [Some, folks, mad, isnt, outrage, death, DanielShaver, isnt, black, peoples, job, create]                                  \n",
       "14       [Some, folks, mad, isnt, outrage, death, DanielShaver, isnt, black, peoples, job, create]                                  \n",
       "15       [Some, folks, mad, isnt, outrage, death, DanielShaver, isnt, black, peoples, job, create]                                  \n",
       "16       [Lady, Tecniq, News, DanielShaver, It, Is, Not, Black, Peoples, Job, Create, White, Lives, Matter, Movement, Daniel, Shave]\n",
       "17       [Please, watch, interview, DanielShavers, widow, In, order, form, perfect, union, police, killing, peopl]                  \n",
       "18       [Some, folks, mad, isnt, outrage, death, DanielShaver, isnt, black, peoples, job, create]                                  \n",
       "19       [Some, folks, mad, isnt, outrage, death, DanielShaver, isnt, black, peoples, job, create]                                  \n",
       "20       [Thank, interview, DanielShavers, widow, That, case, others, involving, unjust, ki]                                        \n",
       "21       [Who, telling, cops, give, suspect, complicated, rubric, commands, fail, anything, else]                                   \n",
       "22       [Some, folks, mad, isnt, outrage, death, DanielShaver, isnt, black, peoples, job, create]                                  \n",
       "23       [Some, folks, mad, isnt, outrage, death, DanielShaver, isnt, black, peoples, job, create]                                  \n",
       "24       [GRAPHICThis, police, body, cam, footage, DanielShaver, unarmed, man, shot, killed, TX, police, officer]                   \n",
       "25       [Some, folks, mad, isnt, outrage, death, DanielShaver, isnt, black, peoples, job, create]                                  \n",
       "26       [For, dont, know, BlackLivesMatter, fighting, DanielShaver, unarmed, white, man, killed, white, cop]                       \n",
       "27       [Some, folks, mad, isnt, outrage, death, DanielShaver, isnt, black, peoples, job]                                          \n",
       "28       [spoken, DanielShaver]                                                                                                     \n",
       "29       [So, lemme, see, fatal, shooting, unarmed, JustineRuszczyk, unarmed, DanielShaver, silence, allLivesm]                     \n",
       "                                                          ...                                                                       \n",
       "23506    [How, found, guilty, Police, Body, Cam, Vid, Shows, Execution, Daniel, Shaver, Officer, Found, Not, Guilty]                \n",
       "23507    [I, feel, numb, watching, executionI, teach, children, respect, Police, I, support, 100Im, forev]                          \n",
       "23508    [That, cop, eager, shoot, poor, kid, I, get, laid, prom]                                                                   \n",
       "23509    [Slager, pressured, plea, deal, federal, charges, brought, BlackLivesMatter, riots, blackmail]                             \n",
       "23510    [The, Daniel, Shaver, DanielShaver, verdict, clear, case, illegal, arrest, turned, murder, turned, miscarriage]            \n",
       "23511    [Arizona, jury, finds, officer, Philip, Brailsford, guilty, seconddegree, murder, 2016, shooting, death, DanielShaver, h]  \n",
       "23512    [Arizona, jury, finds, officer, Philip, Brailsford, guilty, seconddegree, murder, 2016, shooting, death, DanielShaver, h]  \n",
       "23513    [Arizona, jury, finds, officer, Philip, Brailsford, guilty, seconddegree, murder, 2016, shooting, death]                   \n",
       "23514    [DanielShaver, shot, killed, Officer, PhilipBrailsford, Verdict, Not, GuiltyFox10, Live, Stream]                           \n",
       "23515    [Former, Mesa, Police, officer, PhilipBrailsford, found, guilty, 2nd, degree, murder, killing, unarmed, man]               \n",
       "23516    [I, hope, happen, Arizona, jerk, executed, DanielShaver]                                                                   \n",
       "23517    [DanielShaver, begged, coproaches, shoot, He, white, What, role, death, play, push, lawenfo]                               \n",
       "23518    [DanielShaver, begged, coproaches, shoot, He, white, What, role, death, play, push, lawe]                                  \n",
       "23519    [DanielShaver, NVCopBlock, org]                                                                                            \n",
       "23520    [DanielShaver, begged, officers, shoot, He, white, What, role, death, play, push, lawenf]                                  \n",
       "23521    [The, murder, DanielShaverThis, kid, begging, life, He, raised, hands, everything, cops, http]                             \n",
       "23522    [The, murder, DanielShaverThis, kid, begging, life, He, raised, hands, everything, cops]                                   \n",
       "23523    [The, murder, DanielShaverThis, kid, begging, life, He, raised, hands, everything, cops]                                   \n",
       "23524    [The, murder, DanielShaverThis, kid, begging, life, He, raised, hands, everything, cops]                                   \n",
       "23525    [The, murder, DanielShaverThis, kid, begging, life, He, raised, hands, everything, cops]                                   \n",
       "23526    [Heres, spreading, news, DanielShaver, guy, Conor, writes, abouthttpst, coOhbaRrOxDV]                                      \n",
       "23527    [BodyCamera, Footage, Shows, Moments, Before, Police, Fatally, Shoot, Unarmed, Father, 2, DanielShaver]                    \n",
       "23528    [BodyCamera, Footage, Shows, Moments, Before, Police, Fatally, Shoot, Unarmed, Father, 2, DanielShaver]                    \n",
       "23529    [Heres, spreading, news, DanielShaver, guy, Conor, writes, abouthttpst, coOhbaRrOxDV]                                      \n",
       "23530    [Heres, spreading, news, DanielShaver, guy, Conor, writes, abouthttpst, coOhbaRrOxDV]                                      \n",
       "23531    [BodyCamera, Footage, Shows, Moments, Before, Police, Fatally, Shoot, Unarmed, Father, 2, DanielShaver]                    \n",
       "23532    [Heres, spreading, news, DanielShaver, guy, Conor, writes, abouthttpst, coOhbaRrOxDV]                                      \n",
       "23533    [What, Death, DanielShaver, Reveals, About, Policing, getwoke, race, PhilipBrailsford, Arizona]                            \n",
       "23534    [What, Death, DanielShaver, Reveals, About, Policing, getwoke, race, PhilipBrailsford, Arizona]                            \n",
       "23535    [The, police, terrorized, DanielShaver, crawled, begged, life, shot, hi]                                                   \n",
       "Name: tokens, Length: 23536, dtype: object"
      ]
     },
     "execution_count": 21,
     "metadata": {},
     "output_type": "execute_result"
    }
   ],
   "source": [
    "tweets['score'].describe()\n",
    "tweets.pop('tokens')"
   ]
  },
  {
   "cell_type": "code",
   "execution_count": 22,
   "metadata": {},
   "outputs": [],
   "source": [
    "result = tweets.sort_values(by = ['score'], ascending=False)"
   ]
  },
  {
   "cell_type": "code",
   "execution_count": 24,
   "metadata": {},
   "outputs": [],
   "source": [
    "result.to_csv('DSscore.csv')"
   ]
  },
  {
   "cell_type": "code",
   "execution_count": 25,
   "metadata": {},
   "outputs": [],
   "source": [
    "#word_vectors.wv['2']\n",
    "#word_vectors.wv.similarity('man','woman')\n",
    "#word_vectors.wv.most_similar_cosmul(positive=['shit'],topn=20)"
   ]
  },
  {
   "cell_type": "code",
   "execution_count": null,
   "metadata": {
    "collapsed": true
   },
   "outputs": [],
   "source": []
  },
  {
   "cell_type": "code",
   "execution_count": null,
   "metadata": {},
   "outputs": [],
   "source": []
  },
  {
   "cell_type": "code",
   "execution_count": null,
   "metadata": {},
   "outputs": [],
   "source": []
  },
  {
   "cell_type": "code",
   "execution_count": null,
   "metadata": {
    "collapsed": true
   },
   "outputs": [],
   "source": []
  },
  {
   "cell_type": "code",
   "execution_count": null,
   "metadata": {},
   "outputs": [],
   "source": []
  },
  {
   "cell_type": "code",
   "execution_count": null,
   "metadata": {
    "collapsed": true
   },
   "outputs": [],
   "source": []
  }
 ],
 "metadata": {
  "kernelspec": {
   "display_name": "Python 3",
   "language": "python",
   "name": "python3"
  },
  "language_info": {
   "codemirror_mode": {
    "name": "ipython",
    "version": 3
   },
   "file_extension": ".py",
   "mimetype": "text/x-python",
   "name": "python",
   "nbconvert_exporter": "python",
   "pygments_lexer": "ipython3",
   "version": "3.6.1"
  }
 },
 "nbformat": 4,
 "nbformat_minor": 2
}
